{
 "cells": [
  {
   "cell_type": "markdown",
   "metadata": {
    "colab_type": "text",
    "id": "3DR-eO17geWu"
   },
   "source": [
    "# Convolutional Neural Network"
   ]
  },
  {
   "cell_type": "markdown",
   "metadata": {
    "colab_type": "text",
    "id": "EMefrVPCg-60"
   },
   "source": [
    "### Importing the libraries"
   ]
  },
  {
   "cell_type": "code",
   "execution_count": 2,
   "metadata": {
    "colab": {},
    "colab_type": "code",
    "id": "sCV30xyVhFbE"
   },
   "outputs": [],
   "source": [
    "import tensorflow as tf\n",
    "from keras.preprocessing.image import ImageDataGenerator"
   ]
  },
  {
   "cell_type": "code",
   "execution_count": 3,
   "metadata": {
    "colab": {},
    "colab_type": "code",
    "id": "FIleuCAjoFD8"
   },
   "outputs": [
    {
     "data": {
      "text/plain": [
       "'2.11.0'"
      ]
     },
     "execution_count": 3,
     "metadata": {},
     "output_type": "execute_result"
    }
   ],
   "source": [
    "tf.__version__"
   ]
  },
  {
   "cell_type": "markdown",
   "metadata": {
    "colab_type": "text",
    "id": "oxQxCBWyoGPE"
   },
   "source": [
    "## Part 1 - Data Preprocessing"
   ]
  },
  {
   "cell_type": "markdown",
   "metadata": {
    "colab_type": "text",
    "id": "MvE-heJNo3GG"
   },
   "source": [
    "### Preprocessing the Training set"
   ]
  },
  {
   "cell_type": "code",
   "execution_count": 4,
   "metadata": {},
   "outputs": [],
   "source": [
    "# how to preprocess images\n",
    "# transformation to images\n",
    "# why - avoid overfitting (rotation)\n",
    "# image augmentation - transform images in training set, so its not overfitting\n",
    "train_datagen = ImageDataGenerator(\n",
    "        rescale=1./255, # scales pixels by 0-1 \n",
    "        shear_range=0.2,\n",
    "        zoom_range=0.2,\n",
    "        horizontal_flip=True)"
   ]
  },
  {
   "cell_type": "code",
   "execution_count": 5,
   "metadata": {},
   "outputs": [
    {
     "name": "stdout",
     "output_type": "stream",
     "text": [
      "Found 8000 images belonging to 2 classes.\n"
     ]
    }
   ],
   "source": [
    "training_set = train_datagen.flow_from_directory(\n",
    "    \"dataset/training_set\",\n",
    "    target_size=(64, 64),\n",
    "    batch_size=32,\n",
    "    class_mode=\"binary\"\n",
    ")"
   ]
  },
  {
   "cell_type": "markdown",
   "metadata": {
    "colab_type": "text",
    "id": "mrCMmGw9pHys"
   },
   "source": [
    "### Preprocessing the Test set"
   ]
  },
  {
   "cell_type": "code",
   "execution_count": 6,
   "metadata": {},
   "outputs": [
    {
     "name": "stdout",
     "output_type": "stream",
     "text": [
      "Found 2000 images belonging to 2 classes.\n"
     ]
    }
   ],
   "source": [
    "test_datagen = ImageDataGenerator(rescale=1/255)\n",
    "test_set = test_datagen.flow_from_directory(\n",
    "    \"dataset/test_set\",\n",
    "    target_size=(64, 64),\n",
    "    batch_size=32,\n",
    "    class_mode=\"binary\"\n",
    ")"
   ]
  },
  {
   "cell_type": "markdown",
   "metadata": {
    "colab_type": "text",
    "id": "af8O4l90gk7B"
   },
   "source": [
    "## Part 2 - Building the CNN"
   ]
  },
  {
   "cell_type": "markdown",
   "metadata": {
    "colab_type": "text",
    "id": "ces1gXY2lmoX"
   },
   "source": [
    "### Initialising the CNN"
   ]
  },
  {
   "cell_type": "code",
   "execution_count": 7,
   "metadata": {},
   "outputs": [],
   "source": [
    "cnn = tf.keras.models.Sequential()"
   ]
  },
  {
   "cell_type": "markdown",
   "metadata": {
    "colab_type": "text",
    "id": "u5YJj_XMl5LF"
   },
   "source": [
    "### Step 1 - Convolution"
   ]
  },
  {
   "cell_type": "code",
   "execution_count": 8,
   "metadata": {},
   "outputs": [],
   "source": [
    "# filters - how many feature detectors you want\n",
    "# kernel_size - size of a single feature detector\n",
    "cnn.add(tf.keras.layers.Conv2D(filters=32, kernel_size=3, activation=\"relu\", input_shape=(64, 64, 3)))"
   ]
  },
  {
   "cell_type": "markdown",
   "metadata": {
    "colab_type": "text",
    "id": "tf87FpvxmNOJ"
   },
   "source": [
    "### Step 2 - Pooling"
   ]
  },
  {
   "cell_type": "code",
   "execution_count": 9,
   "metadata": {},
   "outputs": [],
   "source": [
    "# pool_size - the window on the feature map\n",
    "# strides - # of pixels to shift the window to the right\n",
    "# padding - when window has less than pool_size after stride\n",
    "cnn.add(tf.keras.layers.MaxPool2D(pool_size=2, strides=2))"
   ]
  },
  {
   "cell_type": "markdown",
   "metadata": {
    "colab_type": "text",
    "id": "xaTOgD8rm4mU"
   },
   "source": [
    "### Adding a second convolutional layer"
   ]
  },
  {
   "cell_type": "code",
   "execution_count": 10,
   "metadata": {},
   "outputs": [],
   "source": [
    "# filters - how many feature detectors you want\n",
    "# kernel_size - size of a single feature detector\n",
    "cnn.add(tf.keras.layers.Conv2D(filters=32, kernel_size=3, activation=\"relu\"))\n",
    "cnn.add(tf.keras.layers.MaxPool2D(pool_size=2, strides=2))"
   ]
  },
  {
   "cell_type": "markdown",
   "metadata": {
    "colab_type": "text",
    "id": "tmiEuvTunKfk"
   },
   "source": [
    "### Step 3 - Flattening"
   ]
  },
  {
   "cell_type": "code",
   "execution_count": 11,
   "metadata": {},
   "outputs": [],
   "source": [
    "cnn.add(tf.keras.layers.Flatten())"
   ]
  },
  {
   "cell_type": "markdown",
   "metadata": {
    "colab_type": "text",
    "id": "dAoSECOm203v"
   },
   "source": [
    "### Step 4 - Full Connection"
   ]
  },
  {
   "cell_type": "code",
   "execution_count": 12,
   "metadata": {},
   "outputs": [],
   "source": [
    "cnn.add(tf.keras.layers.Dense(units=128, activation=\"relu\"))"
   ]
  },
  {
   "cell_type": "markdown",
   "metadata": {
    "colab_type": "text",
    "id": "yTldFvbX28Na"
   },
   "source": [
    "### Step 5 - Output Layer"
   ]
  },
  {
   "cell_type": "code",
   "execution_count": 13,
   "metadata": {},
   "outputs": [],
   "source": [
    "cnn.add(tf.keras.layers.Dense(units=1, activation=\"sigmoid\"))"
   ]
  },
  {
   "cell_type": "markdown",
   "metadata": {
    "colab_type": "text",
    "id": "D6XkI90snSDl"
   },
   "source": [
    "## Part 3 - Training the CNN"
   ]
  },
  {
   "cell_type": "markdown",
   "metadata": {
    "colab_type": "text",
    "id": "vfrFQACEnc6i"
   },
   "source": [
    "### Compiling the CNN"
   ]
  },
  {
   "cell_type": "code",
   "execution_count": 15,
   "metadata": {},
   "outputs": [],
   "source": [
    "cnn.compile(optimizer=\"adam\", loss=\"binary_crossentropy\", metrics=[\"accuracy\"])"
   ]
  },
  {
   "cell_type": "markdown",
   "metadata": {
    "colab_type": "text",
    "id": "ehS-v3MIpX2h"
   },
   "source": [
    "### Training the CNN on the Training set and evaluating it on the Test set"
   ]
  },
  {
   "cell_type": "code",
   "execution_count": 16,
   "metadata": {},
   "outputs": [
    {
     "name": "stdout",
     "output_type": "stream",
     "text": [
      "Epoch 1/25\n",
      "250/250 [==============================] - 61s 235ms/step - loss: 0.6601 - accuracy: 0.5914 - val_loss: 0.6288 - val_accuracy: 0.6585\n",
      "Epoch 2/25\n",
      "250/250 [==============================] - 49s 197ms/step - loss: 0.5781 - accuracy: 0.6992 - val_loss: 0.5583 - val_accuracy: 0.7160\n",
      "Epoch 3/25\n",
      "250/250 [==============================] - 53s 213ms/step - loss: 0.5526 - accuracy: 0.7116 - val_loss: 0.5198 - val_accuracy: 0.7495\n",
      "Epoch 4/25\n",
      "250/250 [==============================] - 50s 199ms/step - loss: 0.5204 - accuracy: 0.7369 - val_loss: 0.4929 - val_accuracy: 0.7660\n",
      "Epoch 5/25\n",
      "250/250 [==============================] - 52s 209ms/step - loss: 0.4870 - accuracy: 0.7625 - val_loss: 0.4815 - val_accuracy: 0.7735\n",
      "Epoch 6/25\n",
      "250/250 [==============================] - 59s 234ms/step - loss: 0.4760 - accuracy: 0.7663 - val_loss: 0.5310 - val_accuracy: 0.7560\n",
      "Epoch 7/25\n",
      "250/250 [==============================] - 53s 212ms/step - loss: 0.4628 - accuracy: 0.7795 - val_loss: 0.5040 - val_accuracy: 0.7450\n",
      "Epoch 8/25\n",
      "250/250 [==============================] - 56s 226ms/step - loss: 0.4438 - accuracy: 0.7832 - val_loss: 0.4720 - val_accuracy: 0.7775\n",
      "Epoch 9/25\n",
      "250/250 [==============================] - 50s 198ms/step - loss: 0.4349 - accuracy: 0.7984 - val_loss: 0.4671 - val_accuracy: 0.7725\n",
      "Epoch 10/25\n",
      "250/250 [==============================] - 49s 198ms/step - loss: 0.4184 - accuracy: 0.8020 - val_loss: 0.4601 - val_accuracy: 0.7935\n",
      "Epoch 11/25\n",
      "250/250 [==============================] - 51s 203ms/step - loss: 0.4028 - accuracy: 0.8156 - val_loss: 0.4793 - val_accuracy: 0.7825\n",
      "Epoch 12/25\n",
      "250/250 [==============================] - 51s 203ms/step - loss: 0.3877 - accuracy: 0.8217 - val_loss: 0.4718 - val_accuracy: 0.7920\n",
      "Epoch 13/25\n",
      "250/250 [==============================] - 49s 198ms/step - loss: 0.3727 - accuracy: 0.8370 - val_loss: 0.4774 - val_accuracy: 0.7765\n",
      "Epoch 14/25\n",
      "250/250 [==============================] - 49s 196ms/step - loss: 0.3652 - accuracy: 0.8369 - val_loss: 0.4452 - val_accuracy: 0.8045\n",
      "Epoch 15/25\n",
      "250/250 [==============================] - 48s 193ms/step - loss: 0.3533 - accuracy: 0.8445 - val_loss: 0.4370 - val_accuracy: 0.8025\n",
      "Epoch 16/25\n",
      "250/250 [==============================] - 48s 193ms/step - loss: 0.3391 - accuracy: 0.8510 - val_loss: 0.4541 - val_accuracy: 0.8005\n",
      "Epoch 17/25\n",
      "250/250 [==============================] - 52s 210ms/step - loss: 0.3213 - accuracy: 0.8596 - val_loss: 0.6347 - val_accuracy: 0.7330\n",
      "Epoch 18/25\n",
      "250/250 [==============================] - 50s 201ms/step - loss: 0.3074 - accuracy: 0.8633 - val_loss: 0.4498 - val_accuracy: 0.8100\n",
      "Epoch 19/25\n",
      "250/250 [==============================] - 47s 187ms/step - loss: 0.2953 - accuracy: 0.8727 - val_loss: 0.4554 - val_accuracy: 0.8125\n",
      "Epoch 20/25\n",
      "250/250 [==============================] - 46s 185ms/step - loss: 0.2849 - accuracy: 0.8761 - val_loss: 0.4594 - val_accuracy: 0.8085\n",
      "Epoch 21/25\n",
      "250/250 [==============================] - 46s 184ms/step - loss: 0.2633 - accuracy: 0.8890 - val_loss: 0.4688 - val_accuracy: 0.8050\n",
      "Epoch 22/25\n",
      "250/250 [==============================] - 44s 176ms/step - loss: 0.2594 - accuracy: 0.8861 - val_loss: 0.5661 - val_accuracy: 0.7915\n",
      "Epoch 23/25\n",
      "250/250 [==============================] - 44s 178ms/step - loss: 0.2412 - accuracy: 0.9028 - val_loss: 0.5072 - val_accuracy: 0.8035\n",
      "Epoch 24/25\n",
      "250/250 [==============================] - 48s 191ms/step - loss: 0.2330 - accuracy: 0.9043 - val_loss: 0.4913 - val_accuracy: 0.8035\n",
      "Epoch 25/25\n",
      "250/250 [==============================] - 49s 194ms/step - loss: 0.2170 - accuracy: 0.9080 - val_loss: 0.5149 - val_accuracy: 0.7980\n"
     ]
    },
    {
     "data": {
      "text/plain": [
       "<keras.callbacks.History at 0x23072a84b50>"
      ]
     },
     "execution_count": 16,
     "metadata": {},
     "output_type": "execute_result"
    }
   ],
   "source": [
    "cnn.fit(x=training_set, validation_data=test_set, epochs=25)"
   ]
  },
  {
   "cell_type": "markdown",
   "metadata": {
    "colab_type": "text",
    "id": "U3PZasO0006Z"
   },
   "source": [
    "## Part 4 - Making a single prediction"
   ]
  },
  {
   "cell_type": "code",
   "execution_count": 18,
   "metadata": {},
   "outputs": [
    {
     "name": "stdout",
     "output_type": "stream",
     "text": [
      "1/1 [==============================] - 0s 142ms/step\n"
     ]
    }
   ],
   "source": [
    "import numpy as np\n",
    "from tensorflow.keras.preprocessing import image\n",
    "test_image = image.load_img(\"dataset/single_predictions/cat_or_dog_1.jpg\", target_size=(64, 64))\n",
    "test_image = image.img_to_array(test_image)\n",
    "# axis 0 is the batch b/ the cnn expects a batch of images\n",
    "test_image = np.expand_dims(test_image, axis=0)\n",
    "result = cnn.predict(test_image)\n",
    "training_set.class_indices\n",
    "if result[0][0] == 1:\n",
    "    prediction = \"dog\"\n",
    "else:\n",
    "    prediction = \"cat\""
   ]
  },
  {
   "cell_type": "code",
   "execution_count": 19,
   "metadata": {},
   "outputs": [
    {
     "data": {
      "text/plain": [
       "'dog'"
      ]
     },
     "execution_count": 19,
     "metadata": {},
     "output_type": "execute_result"
    }
   ],
   "source": [
    "prediction"
   ]
  },
  {
   "cell_type": "code",
   "execution_count": null,
   "metadata": {},
   "outputs": [],
   "source": []
  }
 ],
 "metadata": {
  "colab": {
   "collapsed_sections": [],
   "name": "convolutional_neural_network.ipynb",
   "provenance": [],
   "toc_visible": true
  },
  "kernelspec": {
   "display_name": "Python 3 (ipykernel)",
   "language": "python",
   "name": "python3"
  },
  "language_info": {
   "codemirror_mode": {
    "name": "ipython",
    "version": 3
   },
   "file_extension": ".py",
   "mimetype": "text/x-python",
   "name": "python",
   "nbconvert_exporter": "python",
   "pygments_lexer": "ipython3",
   "version": "3.9.10"
  }
 },
 "nbformat": 4,
 "nbformat_minor": 4
}